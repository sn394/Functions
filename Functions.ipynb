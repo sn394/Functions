{
  "nbformat": 4,
  "nbformat_minor": 0,
  "metadata": {
    "colab": {
      "provenance": []
    },
    "kernelspec": {
      "name": "python3",
      "display_name": "Python 3"
    },
    "language_info": {
      "name": "python"
    }
  },
  "cells": [
    {
      "cell_type": "markdown",
      "source": [
        "#1  What is the difference between a function and a method in Python?\n",
        "-->\n",
        "| **Basis**                    | **Function**                                                          | **Method**                                                                                        |\n",
        "| ---------------------------- | --------------------------------------------------------------------- | ------------------------------------------------------------------------------------------------- |\n",
        "| **Definition**               | A function is a block of reusable code that performs a specific task. | A method is a function that is defined inside a class and is associated with an object.           |\n",
        "| **Belongs to**               | It belongs to the whole program or module.                            | It belongs to a specific class or object.                                                         |\n",
        "| **How it is called**         | Called directly by using its name.                                    | Called using an object with dot notation (e.g., `object.method()`).                               |\n",
        "| **Takes `self` as argument** |                 No                                                                  | Yes, it uses `self` to refer to the instance of the class.                                      |\n",
        "| **Defined using**            | Defined using the `def` keyword outside any class.                    | Defined using the `def` keyword inside a class.                                                   |\n",
        "| **Example**                  | `python\\ndef greet():\\n    print(\"Hello!\")\\ngreet()\\n`                | `python\\nclass Person:\\n    def greet(self):\\n        print(\"Hello!\")\\np = Person()\\np.greet()\\n` |\n",
        "| **Example Output**           | `Hello!`                                                              | `Hello!`                                                                                          |\n",
        "\n",
        "#2). Explain the concept of function arguments and parameters in Python.?\n",
        "-->\n",
        "| **Basis**            | **Parameter**                                                                                  | **Argument**                                                                                |\n",
        "| -------------------- | ---------------------------------------------------------------------------------------------- | ------------------------------------------------------------------------------------------- |\n",
        "| **Definition**       | A **parameter** is a variable that is written inside the parentheses of a function definition. | An **argument** is the actual value or data that is passed to a function when it is called. |\n",
        "| **Where it is used** | In the **function definition**.                                                                | In the **function call**.                                                                   |\n",
        "| **Purpose**          | Acts as a placeholder to receive a value.                                                      | Provides the real value for the parameter.                                                  |\n",
        "| **Created**          | When defining the function.                                                                    | When calling the function.                                                                  |\n",
        "| **Example**          | `python\\ndef greet(name):   # 'name' is a parameter\\n    print(\"Hello\", name)`                 | `python\\ngreet(\"Sneha\")   # 'Sneha' is an argument`                                         |\n",
        "| **Output**           | —                                                                                              | `Hello Sneha`                                                                               |\n",
        "\n",
        "\n",
        "Explanation:\n",
        "\n",
        "Parameters are like input variables written in the function definition.\n",
        "\n",
        "Arguments are the real values passed to those parameters when calling the function.\n",
        "\n",
        "Example Program:\n",
        "\n",
        "    def add(a, b):     # a and b are parameters\n",
        "            return a + b\n",
        "\n",
        "    result = add(5, 10)  # 5 and 10 are arguments\n",
        "    print(result)\n",
        "\n",
        "Output:\n",
        "\n",
        "15\n",
        "\n",
        "#3) What are the different ways to define and call a function in Python?\n",
        "-->Function without parameters and without return value\n",
        "→ A function that does not take any input and does not return anything.\n",
        "\n",
        "    def greet():\n",
        "         print(\"Hello, Python!\")\n",
        "\n",
        "    greet()\n",
        "\n",
        "\n",
        "Output:\n",
        "Hello, Python!\n",
        "\n",
        "Function with parameters\n",
        "→ Takes input values when called.\n",
        "\n",
        "    def greet(name):\n",
        "        print(\"Hello\", name)\n",
        "\n",
        "    greet(\"Sneha\")\n",
        "\n",
        "\n",
        "Output:\n",
        "Hello Sneha\n",
        "\n",
        "Function with return value\n",
        "→ Returns a result to the caller using the return statement.\n",
        "\n",
        "    def add(a, b):\n",
        "        return a + b\n",
        "\n",
        "    print(add(5, 10))\n",
        "\n",
        "\n",
        "Output:\n",
        "15\n",
        "\n",
        "Function with default arguments\n",
        "→ Uses default parameter values if none are provided.\n",
        "\n",
        "    def greet(name=\"User\"):\n",
        "        print(\"Hello\", name)\n",
        "\n",
        "    greet()\n",
        "    greet(\"Sneha\")\n",
        "\n",
        "\n",
        "Output:\n",
        "\n",
        "Hello User\n",
        "Hello Sneha\n",
        "\n",
        "\n",
        "*Function with variable-length arguments (args)\n",
        "→ Can take multiple positional arguments.\n",
        "\n",
        "    def show(*args):\n",
        "        print(args)\n",
        "\n",
        "    show(1, 2, 3)\n",
        "\n",
        "\n",
        "Output:\n",
        "(1, 2, 3)\n",
        "\n",
        "**Function with keyword arguments (kwargs)\n",
        "→ Can take multiple named arguments.\n",
        "\n",
        "    def show(**kwargs):\n",
        "        print(kwargs)\n",
        "\n",
        "    show(name=\"Sneha\", age=20)\n",
        "\n",
        "\n",
        "Output:\n",
        "{'name': 'Sneha', 'age': 20}\n",
        "\n",
        "Lambda (Anonymous) Function\n",
        "→ A small one-line function without a name, defined using lambda.\n",
        "\n",
        "    square = lambda x: x * x\n",
        "    print(square(5))\n",
        "\n",
        "\n",
        "Output:\n",
        "25\n",
        "\n",
        "#4) What is the purpose of the `return` statement in a Python function?\n",
        "-->The return statement in Python is used to send a value from a function back to the place where the function was called.\n",
        "It ends the function’s execution and gives a result to the caller.\n",
        "\n",
        "In simple words:\n",
        "-->return helps a function give back an output.\n",
        "\n",
        "Example 1: Function with return\n",
        "    def add(a, b):\n",
        "        return a + b\n",
        "\n",
        "    result = add(5, 10)\n",
        "    print(result)\n",
        "\n",
        "\n",
        "Output:\n",
        "15\n",
        "\n",
        "-->Here, the function add() returns the sum of a and b to the variable result.\n",
        "\n",
        "Example 2: Function without return\n",
        "    def add(a, b):\n",
        "        print(a + b)\n",
        "\n",
        "    add(5, 10)\n",
        "\n",
        "\n",
        "Output:\n",
        "15\n",
        "\n",
        "--> This function prints the value but does not return it — you cannot store or use the result later.\n",
        "\n",
        "#5)What are iterators in Python and how do they differ from iterables?\n",
        "-->Iterator:\n",
        "\n",
        "An iterator is an object that allows you to traverse (go through) all the elements of a collection (like a list, tuple, or string) one item at a time using the next() function.\n",
        "It remembers its position during iteration.\n",
        "\n",
        "Iterable:\n",
        "\n",
        "An iterable is any Python object that can be looped over (like a list, tuple, string, dictionary, etc.).\n",
        "You can create an iterator from an iterable using the built-in function iter().\n",
        "\n",
        "| **Feature**                 | **Iterable**                                         | **Iterator**                                        |\n",
        "| --------------------------- | ---------------------------------------------------- | --------------------------------------------------- |\n",
        "| **Definition**              | Object that can return an iterator.                  | Object that is used to iterate over an iterable.    |\n",
        "| **Examples**                | `list`, `tuple`, `str`, `dict`                       | Objects created by calling `iter()` on an iterable. |\n",
        "| **How to get it**           | Automatically iterable (e.g., `for` loop).           | Created using `iter(iterable)`.                     |\n",
        "| **Used with**               | `for` loop automatically converts it to an iterator. | Used with `next()` function.                        |\n",
        "| **Has `__iter__()` method** |   Yes                                                |  Yes                                               |\n",
        "| **Has `__next__()` method** |  No                                                 |  Yes                                               |\n",
        "\n",
        "Example:\n",
        "# Iterable\n",
        "    numbers = [10, 20, 30]\n",
        "\n",
        "# Create an iterator from the iterable\n",
        "    it = iter(numbers)\n",
        "\n",
        "    print(next(it))  # 10\n",
        "    print(next(it))  # 20\n",
        "    print(next(it))  # 30\n",
        "\n",
        "\n",
        "Output:\n",
        "\n",
        "10\n",
        "20\n",
        "30\n",
        "\n",
        "#6)Explain the concept of generators in Python and how they are defined.?\n",
        "\n",
        "Generators:\n",
        "\n",
        "-->Generators in Python are special types of functions that are used to generate a sequence of values one at a time instead of returning them all at once.\n",
        "They use the yield keyword instead of return.\n",
        "\n",
        "A generator remembers its state, so when it’s called again, it continues from where it left off.\n",
        "\n",
        "How Generators Work:\n",
        "\n",
        "When a generator function is called, it does not run immediately.\n",
        "\n",
        "It returns a generator object (an iterator).\n",
        "\n",
        "Each time you call next() on it, the function resumes from the last yield and gives the next value.\n",
        "\n",
        "Defining a Generator Function:\n",
        "\n",
        "A generator is defined just like a normal function, but it uses the yield keyword instead of return.\n",
        "\n",
        "Example:\n",
        "    def count_up_to(n):\n",
        "        num = 1\n",
        "        while num <= n:\n",
        "            yield num\n",
        "            num += 1\n",
        "\n",
        "# Using the generator\n",
        "    for i in count_up_to(5):\n",
        "        print(i)\n",
        "\n",
        "\n",
        "Output:\n",
        "\n",
        "1\n",
        "2\n",
        "3\n",
        "4\n",
        "5\n",
        "\n",
        "Advantages of Generators:\n",
        "\n",
        "Memory Efficient: Generates values one at a time instead of storing them all in memory.\n",
        "\n",
        "Faster Performance: Useful for working with large data.\n",
        "\n",
        "Simpler Code: Easier to write and read compared to iterator classes.\n",
        "\n",
        "#7)What are the advantages of using generators over regular functions?\n",
        "-->Generators have several advantages compared to regular functions, especially when working with large data or long sequences.\n",
        "\n",
        "1. Memory Efficiency\n",
        "\n",
        "Generators don’t store all values in memory.\n",
        "\n",
        "They generate values one at a time only when needed (lazy evaluation).\n",
        "-> Example: Useful when reading large files or processing big datasets.\n",
        "\n",
        "2. Faster Execution\n",
        "\n",
        "Since generators produce values on demand, they don’t take time to create large lists in advance.\n",
        "\n",
        "This makes them faster for large iterations.\n",
        "\n",
        "3. Simpler Code\n",
        "\n",
        "Generators are easier to write than creating an iterator class with __iter__() and __next__() methods.\n",
        "\n",
        "Using yield makes code short and readable.\n",
        "\n",
        "4. Infinite Sequence Support\n",
        "\n",
        "Generators can produce infinite sequences because they don’t store data in memory — they stop only when you tell them to.\n",
        "\n",
        "5. Easy to Pause and Resume\n",
        "\n",
        "The generator remembers its state automatically after each yield.\n",
        "\n",
        "When resumed, it continues from where it left off.\n",
        "\n",
        "Example:\n",
        "    def count():\n",
        "        n = 1\n",
        "        while True:\n",
        "           yield n\n",
        "           n += 1\n",
        "\n",
        "\n",
        "This generator can produce infinite numbers without using extra memory.\n",
        "\n",
        "#8) What is a lambda function in Python and when is it typically used?\n",
        "-->Lambda Function:\n",
        "\n",
        "A lambda function in Python is a small, anonymous (nameless) function that is defined using the keyword lambda instead of def.\n",
        "It can take any number of arguments but can have only one expression.\n",
        "\n",
        "It is mainly used when we need a short function for a short time and don’t want to define a full function using def.\n",
        "\n",
        "Syntax:\n",
        "lambda arguments: expression\n",
        "\n",
        "Example 1: Simple lambda function\n",
        "    square = lambda x: x * x\n",
        "    print(square(5))\n",
        "\n",
        "\n",
        "Output:\n",
        "25\n",
        "\n",
        "Example 2: Lambda with multiple arguments\n",
        "    add = lambda a, b: a + b\n",
        "    print(add(3, 7))\n",
        "\n",
        "\n",
        "Output:\n",
        "10\n",
        "\n",
        "Example 3: Lambda inside map()\n",
        "    nums = [1, 2, 3, 4]\n",
        "    squares = list(map(lambda x: x*x, nums))\n",
        "    print(squares)\n",
        "\n",
        "\n",
        "Output:\n",
        "[1, 4, 9, 16]\n",
        "\n",
        "When to use a lambda function:\n",
        "\n",
        "When a function is simple and short.\n",
        "\n",
        "When used with functions like map(), filter(), or sorted().\n",
        "\n",
        "When defining a temporary function that is not reused later.\n",
        "\n",
        "#9)Explain the purpose and usage of the `map()` function in Python.?\n",
        "-->Purpose:\n",
        "\n",
        "The map() function in Python is used to apply a function to every item in an iterable (like a list or tuple) and return a new iterator with the results.\n",
        "\n",
        "In simple words:\n",
        "--> It helps you process all elements of a list (or any iterable) without using a loop.\n",
        "\n",
        "Syntax:\n",
        "map(function, iterable)\n",
        "\n",
        "\n",
        "function -> The function to apply.\n",
        "\n",
        "iterable -> The sequence (like list, tuple, etc.) to process.\n",
        "\n",
        "Example 1: Using a normal function\n",
        "    def square(x):\n",
        "       return x * x\n",
        "\n",
        "    numbers = [1, 2, 3, 4]  \n",
        "    result = map(square, numbers)\n",
        "\n",
        "    print(list(result))\n",
        "\n",
        "\n",
        "Output:\n",
        "[1, 4, 9, 16]\n",
        "\n",
        "Example 2: Using a lambda function\n",
        "    numbers = [1, 2, 3, 4]\n",
        "    result = map(lambda x: x * 2, numbers)\n",
        "\n",
        "    print(list(result))\n",
        "\n",
        "\n",
        "Output:\n",
        "[2, 4, 6, 8]\n",
        "\n",
        "Example 3: Convert Celsius to Fahrenheit\n",
        "    celsius = [0, 10, 20, 30]\n",
        "    fahrenheit = list(map(lambda c: (c * 9/5) + 32, celsius))\n",
        "    print(fahrenheit)\n",
        "\n",
        "\n",
        "Output:\n",
        "[32.0, 50.0, 68.0, 86.0]\n",
        "\n",
        "Advantages of map():\n",
        "\n",
        "Reduces code length — no need for loops.\n",
        "\n",
        "Improves readability and performance.\n",
        "\n",
        "Works well with lambda functions for quick calculations.\n",
        "\n",
        "#10) What is the difference between `map()`, `reduce()`, and `filter()` functions in Python?\n",
        "-->These three functions — map(), filter(), and reduce() — are higher-order functions used to process data in iterables (like lists or tuples) in a functional programming style.\n",
        "\n",
        "1. map()\n",
        "\n",
        "Purpose: Applies a given function to every element of an iterable.\n",
        "\n",
        "Returns: A new iterable (map object) with transformed elements.\n",
        "\n",
        "Example:\n",
        "\n",
        "    numbers = [1, 2, 3, 4]\n",
        "    result = list(map(lambda x: x * 2, numbers))\n",
        "    print(result)\n",
        "\n",
        "\n",
        "Output:\n",
        "[2, 4, 6, 8]\n",
        "\n",
        "2. filter()\n",
        "\n",
        "Purpose: Filters elements of an iterable based on a condition (True or False).\n",
        "\n",
        "Returns: Only the elements that satisfy the condition.\n",
        "\n",
        "Example:\n",
        "\n",
        "    numbers = [1, 2, 3, 4, 5, 6]\n",
        "    result = list(filter(lambda x: x % 2 == 0, numbers))\n",
        "    print(result)\n",
        "\n",
        "\n",
        "Output:\n",
        "[2, 4, 6]\n",
        "\n",
        "3. reduce()\n",
        "\n",
        "Purpose: Repeatedly applies a function to the elements of an iterable to reduce them to a single value.\n",
        "\n",
        "Returns: A single value (not a list).\n",
        "\n",
        "Note: reduce() must be imported from the functools module.\n",
        "\n",
        "Example:\n",
        "\n",
        "    from functools import reduce\n",
        "\n",
        "    numbers = [1, 2, 3, 4]\n",
        "    result = reduce(lambda x, y: x + y, numbers)\n",
        "    print(result)\n",
        "\n",
        "\n",
        "Output:\n",
        "10\n",
        "\n",
        "\n",
        "| **Function** | **Purpose**                            | **Returns**                         | **Example Use**           |\n",
        "| ------------ | -------------------------------------- | ----------------------------------- | ------------------------- |\n",
        "| `map()`      | Applies a function to all elements     | New iterable (transformed elements) | Multiply each number by 2 |\n",
        "| `filter()`   | Selects elements that meet a condition | New iterable (filtered elements)    | Get even numbers          |\n",
        "| `reduce()`   | Combines elements into one value       | Single value                        | Find sum or product       |\n",
        "\n",
        "\n",
        "\n",
        "#11)Using pen & Paper write the internal mechanism for sum operation using  reduce function on this given\n",
        "list:[47,11,42,13];"
      ],
      "metadata": {
        "id": "0hJPJ2s-96SD"
      }
    },
    {
      "cell_type": "markdown",
      "source": [
        "\n",
        "\n",
        "\n",
        "![IMG-20251030-WA0013[1].jpg](data:image/jpeg;base64,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)"
      ],
      "metadata": {
        "id": "E7-cMSL1iIx7"
      }
    },
    {
      "cell_type": "code",
      "execution_count": null,
      "metadata": {
        "colab": {
          "base_uri": "https://localhost:8080/"
        },
        "id": "BuRpCpzaYs4h",
        "outputId": "256df818-ddc2-42de-b20f-03f04c65a13e"
      },
      "outputs": [
        {
          "output_type": "stream",
          "name": "stdout",
          "text": [
            "12\n"
          ]
        }
      ],
      "source": [
        "#1.Write a Python function that takes a list of numbers as input and returns the sum of all even numbers in the list?\n",
        "def sum_of_even(numbers):\n",
        "    return sum(num for num in numbers if num % 2 == 0)\n",
        "\n",
        "print(sum_of_even([1, 2, 3, 4, 5, 6]))  # Output: 12\n",
        "\n"
      ]
    },
    {
      "cell_type": "code",
      "source": [
        "#2.Create a Python function that accepts a string and returns the reverse of that string.?\n",
        "def reverse_string(string):\n",
        "    return string[::-1]\n",
        "print(reverse_string(\"Hello, World!\"))"
      ],
      "metadata": {
        "colab": {
          "base_uri": "https://localhost:8080/"
        },
        "id": "mFZM3bGKY7Pc",
        "outputId": "6a049140-27d5-4fa1-8da6-ddf20869c64d"
      },
      "execution_count": null,
      "outputs": [
        {
          "output_type": "stream",
          "name": "stdout",
          "text": [
            "!dlroW ,olleH\n"
          ]
        }
      ]
    },
    {
      "cell_type": "code",
      "source": [
        "#3.Implement a Python function that takes a list of integers and returns a new list containing the squares of each number.?\n",
        "def square_list(numbers):\n",
        "    return [n ** 2 for n in numbers]\n",
        "print(square_list([1, 2, 3, 4]))\n"
      ],
      "metadata": {
        "colab": {
          "base_uri": "https://localhost:8080/"
        },
        "id": "na_HJtbGZAgT",
        "outputId": "a5491f45-df96-45b1-f92f-d60b84514fa5"
      },
      "execution_count": null,
      "outputs": [
        {
          "output_type": "stream",
          "name": "stdout",
          "text": [
            "[1, 4, 9, 16]\n"
          ]
        }
      ]
    },
    {
      "cell_type": "code",
      "source": [
        "#4. Write a Python function that checks if a given number is prime or not from 1 to 200.?\n",
        "def is_prime(n):\n",
        "    if n < 2 or n > 200:\n",
        "        return False  # Out of valid range\n",
        "    for i in range(2, int(n**0.5) + 1):\n",
        "        if n % i == 0:\n",
        "            return False\n",
        "    return True\n",
        "print(is_prime(7))\n",
        "print(is_prime(100))\n",
        "print(is_prime(201))  # Output: False (out of range)\n",
        "\n"
      ],
      "metadata": {
        "colab": {
          "base_uri": "https://localhost:8080/"
        },
        "id": "d-PyP06eZFz2",
        "outputId": "8678d27f-a0b6-4c71-8889-24692265de14"
      },
      "execution_count": 13,
      "outputs": [
        {
          "output_type": "stream",
          "name": "stdout",
          "text": [
            "True\n",
            "False\n",
            "False\n"
          ]
        }
      ]
    },
    {
      "cell_type": "code",
      "source": [
        "#5. Create an iterator class in Python that generates the Fibonacci sequence up to a specified number of terms.?\n",
        "class Fibonacci:\n",
        "    def __init__(self, terms):\n",
        "        self.terms = terms\n",
        "        self.a, self.b = 0, 1\n",
        "        self.count = 0\n",
        "\n",
        "    def __iter__(self):\n",
        "        return self\n",
        "\n",
        "    def __next__(self):\n",
        "        if self.count < self.terms:\n",
        "            value = self.a\n",
        "            self.a, self.b = self.b, self.a + self.b\n",
        "            self.count += 1\n",
        "            return value\n",
        "        else:\n",
        "            raise StopIteration\n",
        "\n",
        "fib = Fibonacci(10)\n",
        "for num in fib:\n",
        "    print(num, end=\" \")\n",
        "\n",
        "\n"
      ],
      "metadata": {
        "colab": {
          "base_uri": "https://localhost:8080/"
        },
        "id": "flE5zmytZMwD",
        "outputId": "39008524-085e-4b57-fdfe-88ed6f4e59b5"
      },
      "execution_count": null,
      "outputs": [
        {
          "output_type": "stream",
          "name": "stdout",
          "text": [
            "0 1 1 2 3 5 8 13 21 34 "
          ]
        }
      ]
    },
    {
      "cell_type": "code",
      "source": [
        "#6)Write a generator function in Python that yields the powers of 2 up to a given exponent.?\n",
        "def powers_of_two(n):\n",
        "    for i in range(n + 1):\n",
        "        yield 2 ** i\n",
        "for value in powers_of_two(5):\n",
        "    print(value)\n"
      ],
      "metadata": {
        "colab": {
          "base_uri": "https://localhost:8080/"
        },
        "id": "Hyl0NJ_a76GS",
        "outputId": "8e692b33-7972-4172-ca12-1f32f95a450f"
      },
      "execution_count": 14,
      "outputs": [
        {
          "output_type": "stream",
          "name": "stdout",
          "text": [
            "1\n",
            "2\n",
            "4\n",
            "8\n",
            "16\n",
            "32\n"
          ]
        }
      ]
    },
    {
      "cell_type": "code",
      "source": [
        "#7 Implement a generator function that reads a file line by line and yields each line as a string.?\n",
        "import gdown\n",
        "\n",
        "# Extracted file ID from your link\n",
        "file_id = \"1o37D7Wu0qujZdyNOuIaHx4a8DAsdcXt1\"\n",
        "url = f\"https://drive.google.com/uc?export=download&id={file_id}\"\n",
        "\n",
        "# Save the file locally\n",
        "output = \"myfile.txt\"\n",
        "gdown.download(url, output, quiet=False)\n",
        "\n",
        "def read_file_line_by_line(filename):\n",
        "    with open(filename, 'r') as file:\n",
        "        for line in file:\n",
        "            yield line.strip('\\n')\n",
        "for line in read_file_line_by_line(\"myfile.txt\"):\n",
        "    print(line)"
      ],
      "metadata": {
        "colab": {
          "base_uri": "https://localhost:8080/"
        },
        "id": "Gd26BWUh4zlc",
        "outputId": "6c3a95e5-3bc5-4536-a0e2-f9435f80d558"
      },
      "execution_count": 38,
      "outputs": [
        {
          "output_type": "stream",
          "name": "stderr",
          "text": [
            "Downloading...\n",
            "From: https://drive.google.com/uc?export=download&id=1o37D7Wu0qujZdyNOuIaHx4a8DAsdcXt1\n",
            "To: /content/myfile.txt\n",
            "100%|██████████| 72.0/72.0 [00:00<00:00, 183kB/s]"
          ]
        },
        {
          "output_type": "stream",
          "name": "stdout",
          "text": [
            "hi my name is:sneha\n",
            "welcome to pwskills\n",
            "i am learning datascience couse\n"
          ]
        },
        {
          "output_type": "stream",
          "name": "stderr",
          "text": [
            "\n"
          ]
        }
      ]
    },
    {
      "cell_type": "code",
      "source": [
        "#8 Use a lambda function in Python to sort a list of tuples based on the second element of each tuple.??\n",
        "data = [(1, 3), (4, 1), (2, 2)]\n",
        "sorted_data = sorted(data, key=lambda x: x[1])\n",
        "sorted_data\n"
      ],
      "metadata": {
        "id": "WJgs4DZ48ST3",
        "colab": {
          "base_uri": "https://localhost:8080/"
        },
        "outputId": "abd13af3-a381-40de-cc83-658247cb7e89"
      },
      "execution_count": 8,
      "outputs": [
        {
          "output_type": "execute_result",
          "data": {
            "text/plain": [
              "[(4, 1), (2, 2), (1, 3)]"
            ]
          },
          "metadata": {},
          "execution_count": 8
        }
      ]
    },
    {
      "cell_type": "code",
      "source": [
        "#9)Write a Python program that uses `map()` to convert a list of temperatures from Celsius to Fahrenheit.?\n",
        "def celsius_to_fahrenheit(celsius_list):\n",
        "    return list(map(lambda c: (c * 9/5) + 32, celsius_list))\n",
        "celsius = [0, 20, 37, 100]\n",
        "fahrenheit = celsius_to_fahrenheit(celsius)\n",
        "print(\"Fahrenheit:\", fahrenheit)"
      ],
      "metadata": {
        "colab": {
          "base_uri": "https://localhost:8080/"
        },
        "id": "CcLFDF_S8h5C",
        "outputId": "3762f31e-30d5-47ed-9278-48999a931d64"
      },
      "execution_count": 17,
      "outputs": [
        {
          "output_type": "stream",
          "name": "stdout",
          "text": [
            "Fahrenheit: [32.0, 68.0, 98.6, 212.0]\n"
          ]
        }
      ]
    },
    {
      "cell_type": "code",
      "source": [
        "#10)Create a Python program that uses `filter()` to remove all the vowels from a given string.??\n",
        "def remove_vowels(text):\n",
        "    vowels = 'aeiouAEIOU'\n",
        "    return ''.join(filter(lambda ch: ch not in vowels, text))\n",
        "input_str = \"I am learning datascence course in pwskills.\"\n",
        "result = remove_vowels(input_str)\n",
        "print(\"Without vowels:\", result)\n",
        "\n"
      ],
      "metadata": {
        "colab": {
          "base_uri": "https://localhost:8080/"
        },
        "id": "PuaPC0ZR81Xt",
        "outputId": "0204d605-fd75-4d3a-fff0-5edc64dbba04"
      },
      "execution_count": 20,
      "outputs": [
        {
          "output_type": "stream",
          "name": "stdout",
          "text": [
            "Without vowels:  m lrnng dtscnc crs n pwsklls.\n"
          ]
        }
      ]
    },
    {
      "cell_type": "code",
      "source": [
        " \"\"\"11)Imagine an accounting routine used in a book shop. It works on a list with sublists, which look like this:\n",
        "Write a Python program, which returns a list with 2-tuples. Each tuple consists of the order number and the\n",
        "product of the price per item and the quantity. The product should be increased by 10,- € if the value of the\n",
        "order is smaller than 100,00 €.Write a Python program using lambda and map.\"\"\"\n",
        "orders = [\n",
        "    [34587, \"Learning Python, Mark Lutz\", 4, 40.95],\n",
        "    [98762, \"Programming Python, Mark Lutz\", 5, 56.80],\n",
        "    [77226, \"Head First Python, Paul Barry\", 3, 32.95],\n",
        "    [88112, \"Einführung in Python3, Bernd Klein\", 3, 24.99]]\n",
        "\n",
        "invoice_totals = list(\n",
        "    map(lambda order: (\n",
        "        order[0],\n",
        "        order[2] * order[3] if order[2] * order[3] >= 100 else order[2] * order[3] + 10\n",
        "    ), orders))\n",
        "\n",
        "print(invoice_totals)\n",
        "print(invoice_totals)"
      ],
      "metadata": {
        "colab": {
          "base_uri": "https://localhost:8080/"
        },
        "id": "7XzKUyK_86wu",
        "outputId": "d8dd7957-1051-4968-f5ba-fc79b661f397"
      },
      "execution_count": 22,
      "outputs": [
        {
          "output_type": "stream",
          "name": "stdout",
          "text": [
            "[(34587, 163.8), (98762, 284.0), (77226, 108.85000000000001), (88112, 84.97)]\n",
            "[(34587, 163.8), (98762, 284.0), (77226, 108.85000000000001), (88112, 84.97)]\n"
          ]
        }
      ]
    }
  ]
}